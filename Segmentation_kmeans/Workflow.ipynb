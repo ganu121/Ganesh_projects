{
 "cells": [
  {
   "cell_type": "code",
   "execution_count": 1,
   "id": "e24e3de6",
   "metadata": {},
   "outputs": [],
   "source": [
    "import joblib\n",
    "import os\n",
    "import streamlit as st\n",
    "from sklearn.preprocessing import StandardScaler\n",
    "from sklearn.decomposition import PCA               #PCA plots\n",
    "from sklearn.cluster import KMeans, DBSCAN\n",
    "from kneed import KneeLocator                       #Auto-detecting k value for elbow plot in kmeans\n",
    "from sklearn.metrics import silhouette_score, davies_bouldin_score\n",
    "from sklearn.manifold import TSNE                   #t-SNE plots\n",
    "\n",
    "from scipy.cluster.hierarchy import dendrogram, linkage, fcluster\n",
    "from mpl_toolkits.mplot3d import Axes3D\n",
    "import matplotlib.pyplot as plt\n",
    "import seaborn as sns\n",
    "import numpy as np\n",
    "import pandas as pd\n",
    "from warnings import filterwarnings\n",
    "filterwarnings(\"ignore\")\n",
    "\n"
   ]
  },
  {
   "cell_type": "markdown",
   "id": "1498dd8f",
   "metadata": {},
   "source": [
    "# Data Preprocesing "
   ]
  },
  {
   "cell_type": "code",
   "execution_count": 21,
   "id": "49c47137",
   "metadata": {},
   "outputs": [],
   "source": [
    "# Loading Dataset, drop missing rows, remove negetive, convert to dateTime\n",
    "\n",
    "def load_and_clean_data(file_path):\n",
    "    # Load data\n",
    "    df = pd.read_csv(file_path, encoding='latin1')\n",
    "\n",
    "    # Drop rows with missing CustomerID\n",
    "    df.dropna(subset=['CustomerID'], inplace=True)\n",
    "\n",
    "    # Remove negative or zero Quantity and UnitPrice\n",
    "    df = df[(df['Quantity'] > 0) & (df['UnitPrice'] > 0)]\n",
    "\n",
    "    # Convert InvoiceDate to datetime\n",
    "    df['InvoiceDate'] = pd.to_datetime(df['InvoiceDate'])\n",
    "\n",
    "    return df"
   ]
  },
  {
   "cell_type": "code",
   "execution_count": 36,
   "id": "5d359de7",
   "metadata": {},
   "outputs": [],
   "source": [
    "df = pd.read_csv(\"data\\data.csv\", encoding='latin1')"
   ]
  },
  {
   "cell_type": "code",
   "execution_count": 37,
   "id": "ce4aed57",
   "metadata": {},
   "outputs": [
    {
     "data": {
      "text/html": [
       "<div>\n",
       "<style scoped>\n",
       "    .dataframe tbody tr th:only-of-type {\n",
       "        vertical-align: middle;\n",
       "    }\n",
       "\n",
       "    .dataframe tbody tr th {\n",
       "        vertical-align: top;\n",
       "    }\n",
       "\n",
       "    .dataframe thead th {\n",
       "        text-align: right;\n",
       "    }\n",
       "</style>\n",
       "<table border=\"1\" class=\"dataframe\">\n",
       "  <thead>\n",
       "    <tr style=\"text-align: right;\">\n",
       "      <th></th>\n",
       "      <th>InvoiceNo</th>\n",
       "      <th>StockCode</th>\n",
       "      <th>Description</th>\n",
       "      <th>Quantity</th>\n",
       "      <th>InvoiceDate</th>\n",
       "      <th>UnitPrice</th>\n",
       "      <th>CustomerID</th>\n",
       "      <th>Country</th>\n",
       "    </tr>\n",
       "  </thead>\n",
       "  <tbody>\n",
       "    <tr>\n",
       "      <th>0</th>\n",
       "      <td>536365</td>\n",
       "      <td>85123A</td>\n",
       "      <td>WHITE HANGING HEART T-LIGHT HOLDER</td>\n",
       "      <td>6</td>\n",
       "      <td>12/1/2010 8:26</td>\n",
       "      <td>2.55</td>\n",
       "      <td>17850.0</td>\n",
       "      <td>United Kingdom</td>\n",
       "    </tr>\n",
       "    <tr>\n",
       "      <th>1</th>\n",
       "      <td>536365</td>\n",
       "      <td>71053</td>\n",
       "      <td>WHITE METAL LANTERN</td>\n",
       "      <td>6</td>\n",
       "      <td>12/1/2010 8:26</td>\n",
       "      <td>3.39</td>\n",
       "      <td>17850.0</td>\n",
       "      <td>United Kingdom</td>\n",
       "    </tr>\n",
       "    <tr>\n",
       "      <th>2</th>\n",
       "      <td>536365</td>\n",
       "      <td>84406B</td>\n",
       "      <td>CREAM CUPID HEARTS COAT HANGER</td>\n",
       "      <td>8</td>\n",
       "      <td>12/1/2010 8:26</td>\n",
       "      <td>2.75</td>\n",
       "      <td>17850.0</td>\n",
       "      <td>United Kingdom</td>\n",
       "    </tr>\n",
       "    <tr>\n",
       "      <th>3</th>\n",
       "      <td>536365</td>\n",
       "      <td>84029G</td>\n",
       "      <td>KNITTED UNION FLAG HOT WATER BOTTLE</td>\n",
       "      <td>6</td>\n",
       "      <td>12/1/2010 8:26</td>\n",
       "      <td>3.39</td>\n",
       "      <td>17850.0</td>\n",
       "      <td>United Kingdom</td>\n",
       "    </tr>\n",
       "    <tr>\n",
       "      <th>4</th>\n",
       "      <td>536365</td>\n",
       "      <td>84029E</td>\n",
       "      <td>RED WOOLLY HOTTIE WHITE HEART.</td>\n",
       "      <td>6</td>\n",
       "      <td>12/1/2010 8:26</td>\n",
       "      <td>3.39</td>\n",
       "      <td>17850.0</td>\n",
       "      <td>United Kingdom</td>\n",
       "    </tr>\n",
       "    <tr>\n",
       "      <th>...</th>\n",
       "      <td>...</td>\n",
       "      <td>...</td>\n",
       "      <td>...</td>\n",
       "      <td>...</td>\n",
       "      <td>...</td>\n",
       "      <td>...</td>\n",
       "      <td>...</td>\n",
       "      <td>...</td>\n",
       "    </tr>\n",
       "    <tr>\n",
       "      <th>541904</th>\n",
       "      <td>581587</td>\n",
       "      <td>22613</td>\n",
       "      <td>PACK OF 20 SPACEBOY NAPKINS</td>\n",
       "      <td>12</td>\n",
       "      <td>12/9/2011 12:50</td>\n",
       "      <td>0.85</td>\n",
       "      <td>12680.0</td>\n",
       "      <td>France</td>\n",
       "    </tr>\n",
       "    <tr>\n",
       "      <th>541905</th>\n",
       "      <td>581587</td>\n",
       "      <td>22899</td>\n",
       "      <td>CHILDREN'S APRON DOLLY GIRL</td>\n",
       "      <td>6</td>\n",
       "      <td>12/9/2011 12:50</td>\n",
       "      <td>2.10</td>\n",
       "      <td>12680.0</td>\n",
       "      <td>France</td>\n",
       "    </tr>\n",
       "    <tr>\n",
       "      <th>541906</th>\n",
       "      <td>581587</td>\n",
       "      <td>23254</td>\n",
       "      <td>CHILDRENS CUTLERY DOLLY GIRL</td>\n",
       "      <td>4</td>\n",
       "      <td>12/9/2011 12:50</td>\n",
       "      <td>4.15</td>\n",
       "      <td>12680.0</td>\n",
       "      <td>France</td>\n",
       "    </tr>\n",
       "    <tr>\n",
       "      <th>541907</th>\n",
       "      <td>581587</td>\n",
       "      <td>23255</td>\n",
       "      <td>CHILDRENS CUTLERY CIRCUS PARADE</td>\n",
       "      <td>4</td>\n",
       "      <td>12/9/2011 12:50</td>\n",
       "      <td>4.15</td>\n",
       "      <td>12680.0</td>\n",
       "      <td>France</td>\n",
       "    </tr>\n",
       "    <tr>\n",
       "      <th>541908</th>\n",
       "      <td>581587</td>\n",
       "      <td>22138</td>\n",
       "      <td>BAKING SET 9 PIECE RETROSPOT</td>\n",
       "      <td>3</td>\n",
       "      <td>12/9/2011 12:50</td>\n",
       "      <td>4.95</td>\n",
       "      <td>12680.0</td>\n",
       "      <td>France</td>\n",
       "    </tr>\n",
       "  </tbody>\n",
       "</table>\n",
       "<p>541909 rows × 8 columns</p>\n",
       "</div>"
      ],
      "text/plain": [
       "       InvoiceNo StockCode                          Description  Quantity  \\\n",
       "0         536365    85123A   WHITE HANGING HEART T-LIGHT HOLDER         6   \n",
       "1         536365     71053                  WHITE METAL LANTERN         6   \n",
       "2         536365    84406B       CREAM CUPID HEARTS COAT HANGER         8   \n",
       "3         536365    84029G  KNITTED UNION FLAG HOT WATER BOTTLE         6   \n",
       "4         536365    84029E       RED WOOLLY HOTTIE WHITE HEART.         6   \n",
       "...          ...       ...                                  ...       ...   \n",
       "541904    581587     22613          PACK OF 20 SPACEBOY NAPKINS        12   \n",
       "541905    581587     22899         CHILDREN'S APRON DOLLY GIRL          6   \n",
       "541906    581587     23254        CHILDRENS CUTLERY DOLLY GIRL          4   \n",
       "541907    581587     23255      CHILDRENS CUTLERY CIRCUS PARADE         4   \n",
       "541908    581587     22138        BAKING SET 9 PIECE RETROSPOT          3   \n",
       "\n",
       "            InvoiceDate  UnitPrice  CustomerID         Country  \n",
       "0        12/1/2010 8:26       2.55     17850.0  United Kingdom  \n",
       "1        12/1/2010 8:26       3.39     17850.0  United Kingdom  \n",
       "2        12/1/2010 8:26       2.75     17850.0  United Kingdom  \n",
       "3        12/1/2010 8:26       3.39     17850.0  United Kingdom  \n",
       "4        12/1/2010 8:26       3.39     17850.0  United Kingdom  \n",
       "...                 ...        ...         ...             ...  \n",
       "541904  12/9/2011 12:50       0.85     12680.0          France  \n",
       "541905  12/9/2011 12:50       2.10     12680.0          France  \n",
       "541906  12/9/2011 12:50       4.15     12680.0          France  \n",
       "541907  12/9/2011 12:50       4.15     12680.0          France  \n",
       "541908  12/9/2011 12:50       4.95     12680.0          France  \n",
       "\n",
       "[541909 rows x 8 columns]"
      ]
     },
     "execution_count": 37,
     "metadata": {},
     "output_type": "execute_result"
    }
   ],
   "source": [
    "df"
   ]
  },
  {
   "cell_type": "code",
   "execution_count": 38,
   "id": "e2961182",
   "metadata": {},
   "outputs": [
    {
     "data": {
      "text/html": [
       "<div>\n",
       "<style scoped>\n",
       "    .dataframe tbody tr th:only-of-type {\n",
       "        vertical-align: middle;\n",
       "    }\n",
       "\n",
       "    .dataframe tbody tr th {\n",
       "        vertical-align: top;\n",
       "    }\n",
       "\n",
       "    .dataframe thead th {\n",
       "        text-align: right;\n",
       "    }\n",
       "</style>\n",
       "<table border=\"1\" class=\"dataframe\">\n",
       "  <thead>\n",
       "    <tr style=\"text-align: right;\">\n",
       "      <th></th>\n",
       "      <th>Quantity</th>\n",
       "    </tr>\n",
       "  </thead>\n",
       "  <tbody>\n",
       "    <tr>\n",
       "      <th>0</th>\n",
       "      <td>6</td>\n",
       "    </tr>\n",
       "    <tr>\n",
       "      <th>1</th>\n",
       "      <td>6</td>\n",
       "    </tr>\n",
       "    <tr>\n",
       "      <th>2</th>\n",
       "      <td>8</td>\n",
       "    </tr>\n",
       "    <tr>\n",
       "      <th>3</th>\n",
       "      <td>6</td>\n",
       "    </tr>\n",
       "    <tr>\n",
       "      <th>4</th>\n",
       "      <td>6</td>\n",
       "    </tr>\n",
       "    <tr>\n",
       "      <th>...</th>\n",
       "      <td>...</td>\n",
       "    </tr>\n",
       "    <tr>\n",
       "      <th>541904</th>\n",
       "      <td>12</td>\n",
       "    </tr>\n",
       "    <tr>\n",
       "      <th>541905</th>\n",
       "      <td>6</td>\n",
       "    </tr>\n",
       "    <tr>\n",
       "      <th>541906</th>\n",
       "      <td>4</td>\n",
       "    </tr>\n",
       "    <tr>\n",
       "      <th>541907</th>\n",
       "      <td>4</td>\n",
       "    </tr>\n",
       "    <tr>\n",
       "      <th>541908</th>\n",
       "      <td>3</td>\n",
       "    </tr>\n",
       "  </tbody>\n",
       "</table>\n",
       "<p>541909 rows × 1 columns</p>\n",
       "</div>"
      ],
      "text/plain": [
       "        Quantity\n",
       "0              6\n",
       "1              6\n",
       "2              8\n",
       "3              6\n",
       "4              6\n",
       "...          ...\n",
       "541904        12\n",
       "541905         6\n",
       "541906         4\n",
       "541907         4\n",
       "541908         3\n",
       "\n",
       "[541909 rows x 1 columns]"
      ]
     },
     "execution_count": 38,
     "metadata": {},
     "output_type": "execute_result"
    }
   ],
   "source": [
    "df = df[[\"Quantity\"]]\n",
    "df"
   ]
  },
  {
   "cell_type": "markdown",
   "id": "b15416a4",
   "metadata": {},
   "source": [
    "## Feature Enggineering "
   ]
  },
  {
   "cell_type": "code",
   "execution_count": 3,
   "id": "94f83374",
   "metadata": {},
   "outputs": [],
   "source": [
    "#Create RFM\n",
    "def create_rfm_features(df):\n",
    "    # Define latest date for recency calculation\n",
    "    latest_date = df['InvoiceDate'].max() + pd.Timedelta(days=1)\n",
    "\n",
    "    # Group by CustomerID\n",
    "    rfm = df.groupby('CustomerID').agg({\n",
    "        'InvoiceDate': lambda x: (latest_date - x.max()).days,\n",
    "        'InvoiceNo': 'nunique',\n",
    "        'Quantity': 'sum',\n",
    "        'UnitPrice': 'mean'\n",
    "    }).reset_index()\n",
    "\n",
    "    rfm.columns = ['CustomerID', 'Recency', 'Frequency', 'TotalQuantity', 'AvgUnitPrice']\n",
    "\n",
    "    # Create Monetary column\n",
    "    df['TotalPrice'] = df['Quantity'] * df['UnitPrice']\n",
    "    monetary = df.groupby('CustomerID')['TotalPrice'].sum().reset_index()\n",
    "    rfm = rfm.merge(monetary, on='CustomerID')\n",
    "    rfm.rename(columns={'TotalPrice': 'Monetary'}, inplace=True)\n",
    "\n",
    "    return rfm\n"
   ]
  },
  {
   "cell_type": "markdown",
   "id": "cdbc28ec",
   "metadata": {},
   "source": [
    "## Checking Feature Distribution, Outlier handling and Scaling"
   ]
  },
  {
   "cell_type": "code",
   "execution_count": 4,
   "id": "5a510d5e",
   "metadata": {},
   "outputs": [],
   "source": [
    "# Plots for distributions\n",
    "def plot_and_save_distributions(rfm_df, Before_After):\n",
    "    plt.style.use('ggplot')\n",
    "    features = ['Recency', 'Frequency', 'Monetary']\n",
    "\n",
    "    for feature in features:\n",
    "        plt.figure(figsize=(8, 5))\n",
    "        sns.histplot(rfm_df[feature], kde=True, bins=30)\n",
    "        plt.title(f'{feature} Distribution')\n",
    "        plt.xlabel(feature)\n",
    "        plt.ylabel('Count')\n",
    "        plt.show()\n",
    "        plt.savefig(f'plots/{feature}_distribution_{Before_After}.png')\n",
    "        plt.close()\n"
   ]
  },
  {
   "cell_type": "code",
   "execution_count": 5,
   "id": "844a762f",
   "metadata": {},
   "outputs": [],
   "source": [
    "# Outlier handling\n",
    "def detect_and_handle_outliers(rfm_df):\n",
    "    def handle_outlier(col):\n",
    "        Q1 = rfm_df[col].quantile(0.25)\n",
    "        Q3 = rfm_df[col].quantile(0.75)\n",
    "        IQR = Q3 - Q1\n",
    "        lower = Q1 - 1.5 * IQR\n",
    "        upper = Q3 + 1.5 * IQR\n",
    "        return rfm_df[(rfm_df[col] >= lower) & (rfm_df[col] <= upper)]\n",
    "\n",
    "    filtered_df = rfm_df.copy()\n",
    "    for col in ['Recency', 'Frequency', 'Monetary']:\n",
    "        filtered_df = handle_outlier(col)\n",
    "\n",
    "    return filtered_df"
   ]
  },
  {
   "cell_type": "code",
   "execution_count": 6,
   "id": "28871159",
   "metadata": {},
   "outputs": [],
   "source": [
    "# scaler \n",
    "def scale_data(df, features):\n",
    "    scaler = StandardScaler()\n",
    "    scaled = scaler.fit_transform(df[features])\n",
    "    return scaled, scaler"
   ]
  },
  {
   "cell_type": "markdown",
   "id": "0dd99d6b",
   "metadata": {},
   "source": [
    "# Data visualization"
   ]
  },
  {
   "cell_type": "code",
   "execution_count": 7,
   "id": "2b381d5c",
   "metadata": {},
   "outputs": [],
   "source": [
    "# Ploting 3D \n",
    "def plot_3d_scatter(data, labels, title, filename):\n",
    "    fig = plt.figure(figsize=(10, 7))\n",
    "    ax = fig.add_subplot(111, projection='3d')\n",
    "    ax.scatter(data[:, 0], data[:, 1], data[:, 2], c=labels, cmap='viridis', s=50)\n",
    "    ax.set_xlabel('Recency')\n",
    "    ax.set_ylabel('Frequency')\n",
    "    ax.set_zlabel('Monetary')\n",
    "    ax.set_title(title)\n",
    "    plt.show()\n",
    "    plt.savefig(f'plots/{filename}')\n",
    "    plt.close()"
   ]
  },
  {
   "cell_type": "markdown",
   "id": "c0e3c2dc",
   "metadata": {},
   "source": [
    "# Training "
   ]
  },
  {
   "cell_type": "markdown",
   "id": "67e02765",
   "metadata": {},
   "source": [
    "### Kmeans Training (Kmeans Cluster and t-SNE, PCA plots, silhouette, Elbow method)"
   ]
  },
  {
   "cell_type": "code",
   "execution_count": 8,
   "id": "625c29ca",
   "metadata": {},
   "outputs": [],
   "source": [
    "# Kmeans \n",
    "\n",
    "def train_kmeans(data, max_clusters=10):\n",
    "    silhouette_scores = []\n",
    "    inertias = []\n",
    "\n",
    "    # Test k from 2 to max_clusters\n",
    "    k_range = range(2, max_clusters + 1)\n",
    "    for k in k_range:\n",
    "        model = KMeans(n_clusters=k, random_state=42)\n",
    "        labels = model.fit_predict(data)\n",
    "        silhouette_scores.append(silhouette_score(data, labels))\n",
    "        inertias.append(model.inertia_)\n",
    "\n",
    "    # Auto-detect the elbow point\n",
    "    kl = KneeLocator(k_range, inertias, curve=\"convex\", direction=\"decreasing\")\n",
    "    best_k = kl.elbow\n",
    "    best_model = KMeans(n_clusters=best_k, random_state=42).fit(data)\n",
    "\n",
    "    # Plot Silhouette Score\n",
    "    plt.figure(figsize=(12, 5))\n",
    "\n",
    "    plt.subplot(1, 2, 1)\n",
    "    plt.plot(k_range, silhouette_scores, marker='o', color='teal')\n",
    "    plt.title('Silhouette Score vs. Number of Clusters')\n",
    "    plt.xlabel('Number of Clusters (k)')\n",
    "    plt.ylabel('Silhouette Score')\n",
    "    plt.axvline(x=best_k, color='red', linestyle='--', label=f'Auto-selected k = {best_k}')\n",
    "    plt.legend()\n",
    "    plt.grid(True)\n",
    "\n",
    "    # Plot Elbow Method (Inertia)\n",
    "    plt.subplot(1, 2, 2)\n",
    "    plt.plot(k_range, inertias, marker='s', color='orange')\n",
    "    plt.title('Elbow Method: Inertia vs. Number of Clusters')\n",
    "    plt.xlabel('Number of Clusters (k)')\n",
    "    plt.ylabel('Inertia (WCSS)')\n",
    "    plt.axvline(x=best_k, color='red', linestyle='--', label=f'Elbow at k = {best_k}')\n",
    "    plt.legend()\n",
    "    plt.grid(True)\n",
    "\n",
    "    plt.tight_layout()\n",
    "    plt.show()\n",
    "    plt.savefig('plots/kmeans_elbow_auto.png')\n",
    "    plt.show()\n",
    "\n",
    "    print(f\"Auto-selected best k using elbow method: {best_k}\")\n",
    "    return best_model, best_model.labels_\n",
    "\n"
   ]
  },
  {
   "cell_type": "code",
   "execution_count": 9,
   "id": "13c18796",
   "metadata": {},
   "outputs": [],
   "source": [
    "# Kmeans Cluster and t-SNE, PCA plots\n",
    "\n",
    "def plot_kmeans_clusters(data, labels, centers=None):\n",
    "    if data.shape[1] > 2:\n",
    "        pca = PCA(n_components=2)\n",
    "        reduced_data = pca.fit_transform(data)\n",
    "    else:\n",
    "        reduced_data = data\n",
    "\n",
    "    plt.figure(figsize=(8, 6))\n",
    "    plt.scatter(reduced_data[:, 0], reduced_data[:, 1], c=labels, cmap='Set1', s=30, alpha=0.7, label='Points')\n",
    "\n",
    "    if centers is not None:\n",
    "        if data.shape[1] > 2:\n",
    "            centers_2d = pca.transform(centers)\n",
    "        else:\n",
    "            centers_2d = centers\n",
    "        plt.scatter(centers_2d[:, 0], centers_2d[:, 1], c='black', marker='X', s=200, label='Centroids')\n",
    "\n",
    "    plt.title('KMeans Clustering Results')\n",
    "    plt.xlabel('Component 1')\n",
    "    plt.ylabel('Component 2')\n",
    "    plt.legend()\n",
    "    plt.grid(True)\n",
    "    plt.tight_layout()\n",
    "    plt.show()\n",
    "    plt.savefig('plots/kmeans_clusters.png')\n",
    "    plt.close()\n"
   ]
  },
  {
   "cell_type": "code",
   "execution_count": 10,
   "id": "8b4c074d",
   "metadata": {},
   "outputs": [],
   "source": [
    "# Kmeans t-SNE\n",
    "\n",
    "def plot_tsne_clusters(data, labels, perplexity=30, learning_rate=200):\n",
    "    tsne = TSNE(n_components=2, perplexity=perplexity, learning_rate=learning_rate, random_state=42)\n",
    "    reduced_data = tsne.fit_transform(data)\n",
    "\n",
    "    plt.figure(figsize=(8, 6))\n",
    "    scatter = plt.scatter(reduced_data[:, 0], reduced_data[:, 1], c=labels, cmap='Set1', s=30, alpha=0.7)\n",
    "    \n",
    "    # Legend based on unique labels\n",
    "    unique_labels = sorted(set(labels))\n",
    "    handles = [plt.Line2D([], [], marker='o', color='w', label=f'Cluster {lbl}',\n",
    "                          markerfacecolor=scatter.cmap(scatter.norm(lbl)), markersize=8)\n",
    "               for lbl in unique_labels]\n",
    "    plt.legend(handles=handles)\n",
    "\n",
    "    plt.title('t-SNE Visualization of Clusters')\n",
    "    plt.xlabel('t-SNE Component 1')\n",
    "    plt.ylabel('t-SNE Component 2')\n",
    "    plt.grid(True)\n",
    "    plt.tight_layout()\n",
    "    plt.show()\n",
    "    plt.savefig('plots/tsne_kmeans_clusters.png')\n",
    "    plt.close()"
   ]
  },
  {
   "cell_type": "markdown",
   "id": "d341ac3d",
   "metadata": {},
   "source": [
    "### Hirarchial Training (Dendrogram, t-sne)"
   ]
  },
  {
   "cell_type": "code",
   "execution_count": 11,
   "id": "f6bb7c36",
   "metadata": {},
   "outputs": [],
   "source": [
    "# Hirarchial \n",
    "\n",
    "def train_hierarchical(data, method='ward'):\n",
    "    Z = linkage(data, method=method)\n",
    "\n",
    "    # Auto-select cut height using distance gap\n",
    "    last_10 = Z[-10:, 2]\n",
    "    gaps = np.diff(last_10)\n",
    "    best_gap_idx = gaps.argmax()\n",
    "    cut_height = last_10[best_gap_idx]\n",
    "\n",
    "    # Dendrogram with cut line\n",
    "    plt.figure(figsize=(10, 6))\n",
    "    dendrogram(Z)\n",
    "    plt.axhline(y=cut_height, color='red', linestyle='--', label=f'Cut at {cut_height:.2f}')\n",
    "    plt.legend()\n",
    "\n",
    "    plt.title('Hierarchical Clustering Dendrogram')\n",
    "    plt.xlabel('Sample Index or Cluster Merge Step')\n",
    "    plt.ylabel('Distance')\n",
    "    plt.tight_layout()\n",
    "    plt.show()\n",
    "    plt.savefig('plots/hierarchical_dendrogram.png')\n",
    "    \n",
    "\n",
    "    # Assign clusters\n",
    "    labels = fcluster(Z, t=cut_height, criterion='distance')\n",
    "    return Z, labels\n"
   ]
  },
  {
   "cell_type": "code",
   "execution_count": 12,
   "id": "927d6731",
   "metadata": {},
   "outputs": [],
   "source": [
    "# Hierarchical t-SNE\n",
    "\n",
    "def plot_tsne_hierarchical(data, labels, perplexity=30, learning_rate=200):\n",
    "    tsne = TSNE(n_components=2, perplexity=perplexity, learning_rate=learning_rate, random_state=42)\n",
    "    reduced_data = tsne.fit_transform(data)\n",
    "\n",
    "    plt.figure(figsize=(8, 6))\n",
    "    scatter = plt.scatter(reduced_data[:, 0], reduced_data[:, 1], c=labels, cmap='Set2', s=30, alpha=0.7)\n",
    "\n",
    "    # Legend based on unique labels\n",
    "    unique_labels = sorted(np.unique(labels))\n",
    "    handles = [plt.Line2D([], [], marker='o', color='w', label=f'Cluster {lbl}',\n",
    "                          markerfacecolor=scatter.cmap(scatter.norm(lbl)), markersize=8)\n",
    "               for lbl in unique_labels]\n",
    "    plt.legend(handles=handles)\n",
    "\n",
    "    plt.title('t-SNE Visualization of Hierarchical Clusters')\n",
    "    plt.xlabel('t-SNE Component 1')\n",
    "    plt.ylabel('t-SNE Component 2')\n",
    "    plt.grid(True)\n",
    "    plt.tight_layout()\n",
    "    plt.show()\n",
    "    plt.savefig('plots/tsne_hierarchical_clusters.png')\n",
    "    \n"
   ]
  },
  {
   "cell_type": "markdown",
   "id": "a5bccecf",
   "metadata": {},
   "source": [
    "### DBSCAN Training (clustor , t-SNE)"
   ]
  },
  {
   "cell_type": "code",
   "execution_count": 13,
   "id": "905f698f",
   "metadata": {},
   "outputs": [],
   "source": [
    "#DBSCAN train\n",
    "\n",
    "def train_dbscan(data, eps=0.5, min_samples=5):\n",
    "    model = DBSCAN(eps=eps, min_samples=min_samples)\n",
    "    labels = model.fit_predict(data)\n",
    "\n",
    "    # Dimensionality reduction for visualization if needed\n",
    "    if data.shape[1] > 2:\n",
    "        pca = PCA(n_components=2)\n",
    "        reduced_data = pca.fit_transform(data)\n",
    "    else:\n",
    "        reduced_data = data\n",
    "\n",
    "    # Plot DBSCAN results\n",
    "    plt.figure(figsize=(8, 6))\n",
    "    unique_labels = np.unique(labels)\n",
    "    for label in unique_labels:\n",
    "        mask = labels == label\n",
    "        if label == -1:\n",
    "            color = 'k'  # Black for noise\n",
    "            label_name = 'Noise'\n",
    "        else:\n",
    "            color = plt.cm.Set1(label / max(unique_labels))  # Varying colors\n",
    "            label_name = f'Cluster {label}'\n",
    "        plt.scatter(reduced_data[mask, 0], reduced_data[mask, 1], c=[color], label=label_name, s=30)\n",
    "\n",
    "    plt.title('DBSCAN Clustering Results')\n",
    "    plt.xlabel('Component 1')\n",
    "    plt.ylabel('Component 2')\n",
    "    plt.legend()\n",
    "    plt.grid(True)\n",
    "    plt.tight_layout()\n",
    "    plt.show()\n",
    "    plt.savefig('plots/dbscan_clusters.png')\n",
    "    \n",
    "\n",
    "    return model, labels\n"
   ]
  },
  {
   "cell_type": "code",
   "execution_count": 14,
   "id": "0abebe98",
   "metadata": {},
   "outputs": [],
   "source": [
    "# DBSCAN t-SNE\n",
    "\n",
    "def plot_tsne_dbscan_clusters(scaled_data, labels, perplexity=30, learning_rate=200):\n",
    "    tsne = TSNE(n_components=2, perplexity=perplexity, learning_rate=learning_rate, random_state=42)\n",
    "    reduced_data = tsne.fit_transform(scaled_data)\n",
    "\n",
    "    plt.figure(figsize=(8, 6))\n",
    "    unique_labels = sorted(set(labels))\n",
    "\n",
    "    for label in unique_labels:\n",
    "        mask = (labels == label)\n",
    "        if label == -1:\n",
    "            color = 'k'\n",
    "            label_name = 'Noise'\n",
    "        else:\n",
    "            color = plt.cm.Set1(label / max(unique_labels))  # Distinct colors\n",
    "            label_name = f'Cluster {label}'\n",
    "        plt.scatter(reduced_data[mask, 0], reduced_data[mask, 1], c=[color], label=label_name, s=30, alpha=0.7)\n",
    "\n",
    "    plt.title('t-SNE Visualization of DBSCAN Clusters')\n",
    "    plt.xlabel('t-SNE Component 1')\n",
    "    plt.ylabel('t-SNE Component 2')\n",
    "    plt.legend()\n",
    "    plt.grid(True)\n",
    "    plt.tight_layout()\n",
    "    plt.show()\n",
    "    plt.savefig('plots/tsne_dbscan_clusters.png')\n",
    "    \n"
   ]
  },
  {
   "cell_type": "markdown",
   "id": "6eeca251",
   "metadata": {},
   "source": [
    "### Ploting PCA "
   ]
  },
  {
   "cell_type": "code",
   "execution_count": 15,
   "id": "b810e95c",
   "metadata": {},
   "outputs": [],
   "source": [
    "def plot_pca_clusters(data, labels, title, filename):\n",
    "    pca = PCA(n_components=2)\n",
    "    components = pca.fit_transform(data)\n",
    "    plt.figure(figsize=(8, 6))\n",
    "    sns.scatterplot(x=components[:, 0], y=components[:, 1], hue=labels, palette='Set2', s=60)\n",
    "    plt.title(title)\n",
    "    plt.xlabel('PCA 1')\n",
    "    plt.ylabel('PCA 2')\n",
    "    plt.show()\n",
    "    plt.savefig(f'plots/{filename}')\n",
    "    plt.close()"
   ]
  },
  {
   "cell_type": "markdown",
   "id": "5a3708d8",
   "metadata": {},
   "source": [
    "## Model performances - Comparing"
   ]
  },
  {
   "cell_type": "code",
   "execution_count": 16,
   "id": "1f499a05",
   "metadata": {},
   "outputs": [],
   "source": [
    "# Comparing Model performances\n",
    "def compare_models(data, label_sets):\n",
    "    scores = {}\n",
    "    for name, labels in label_sets.items():\n",
    "        if len(set(labels)) > 1 and -1 not in set(labels):\n",
    "            sil_score = silhouette_score(data, labels)\n",
    "            db_score = davies_bouldin_score(data, labels)\n",
    "            scores[name] = {\"Silhouette\": sil_score, \"Davies-Bouldin\": db_score}\n",
    "    return scores"
   ]
  },
  {
   "cell_type": "markdown",
   "id": "240f472d",
   "metadata": {},
   "source": [
    "### Saving trained models"
   ]
  },
  {
   "cell_type": "code",
   "execution_count": 17,
   "id": "7d2b4be9",
   "metadata": {},
   "outputs": [],
   "source": [
    "#Saving trained model\n",
    "def save_model(model, name):\n",
    "    os.makedirs('models', exist_ok=True)\n",
    "    path = f'models/{name}.pkl'\n",
    "    joblib.dump(model, path)\n",
    "    print(f\"Model saved at {path}\")"
   ]
  },
  {
   "cell_type": "markdown",
   "id": "9511cb05",
   "metadata": {},
   "source": [
    "# Calling Methods"
   ]
  },
  {
   "cell_type": "markdown",
   "id": "f37fa901",
   "metadata": {},
   "source": [
    "pre-processing call"
   ]
  },
  {
   "cell_type": "code",
   "execution_count": 18,
   "id": "3419f875",
   "metadata": {},
   "outputs": [
    {
     "name": "stdout",
     "output_type": "stream",
     "text": [
      "Raw data with shape :(541909, 8)\n",
      "--------------------------------------------\n",
      "<class 'pandas.core.frame.DataFrame'>\n",
      "RangeIndex: 541909 entries, 0 to 541908\n",
      "Data columns (total 8 columns):\n",
      " #   Column       Non-Null Count   Dtype         \n",
      "---  ------       --------------   -----         \n",
      " 0   InvoiceNo    541909 non-null  object        \n",
      " 1   StockCode    541909 non-null  object        \n",
      " 2   Description  540455 non-null  object        \n",
      " 3   Quantity     541909 non-null  int64         \n",
      " 4   InvoiceDate  541909 non-null  datetime64[ns]\n",
      " 5   UnitPrice    541909 non-null  float64       \n",
      " 6   CustomerID   406829 non-null  float64       \n",
      " 7   Country      541909 non-null  object        \n",
      "dtypes: datetime64[ns](1), float64(2), int64(1), object(4)\n",
      "memory usage: 33.1+ MB\n",
      "Info : None\n",
      "--------------------------------------------\n",
      "Descreption numeric :             Quantity                    InvoiceDate      UnitPrice  \\\n",
      "count  541909.000000                         541909  541909.000000   \n",
      "mean        9.552250  2011-07-04 13:34:57.156386048       4.611114   \n",
      "min    -80995.000000            2010-12-01 08:26:00  -11062.060000   \n",
      "25%         1.000000            2011-03-28 11:34:00       1.250000   \n",
      "50%         3.000000            2011-07-19 17:17:00       2.080000   \n",
      "75%        10.000000            2011-10-19 11:27:00       4.130000   \n",
      "max     80995.000000            2011-12-09 12:50:00   38970.000000   \n",
      "std       218.081158                            NaN      96.759853   \n",
      "\n",
      "          CustomerID  \n",
      "count  406829.000000  \n",
      "mean    15287.690570  \n",
      "min     12346.000000  \n",
      "25%     13953.000000  \n",
      "50%     15152.000000  \n",
      "75%     16791.000000  \n",
      "max     18287.000000  \n",
      "std      1713.600303  \n"
     ]
    }
   ],
   "source": [
    "# data, info , descreption\n",
    "raw = pd.read_csv('data/data.csv', encoding = 'latin1')\n",
    "raw[\"InvoiceDate\"] = pd.to_datetime(raw[\"InvoiceDate\"])\n",
    "raw.head()\n",
    "print(f\"Raw data with shape :{raw.shape}\")\n",
    "print(\"--------------------------------------------\")\n",
    "print(f\"Info : {raw.info()}\")\n",
    "print(\"--------------------------------------------\")\n",
    "print(f\"Descreption numeric : {raw.describe()}\")"
   ]
  },
  {
   "cell_type": "code",
   "execution_count": 19,
   "id": "ee73b93e",
   "metadata": {},
   "outputs": [
    {
     "ename": "NameError",
     "evalue": "name 'cleaned_df' is not defined",
     "output_type": "error",
     "traceback": [
      "\u001b[31m---------------------------------------------------------------------------\u001b[39m",
      "\u001b[31mNameError\u001b[39m                                 Traceback (most recent call last)",
      "\u001b[36mCell\u001b[39m\u001b[36m \u001b[39m\u001b[32mIn[19]\u001b[39m\u001b[32m, line 1\u001b[39m\n\u001b[32m----> \u001b[39m\u001b[32m1\u001b[39m \u001b[43mcleaned_df\u001b[49m\n",
      "\u001b[31mNameError\u001b[39m: name 'cleaned_df' is not defined"
     ]
    }
   ],
   "source": [
    "cleaned_df"
   ]
  },
  {
   "cell_type": "code",
   "execution_count": null,
   "id": "4e6f96d2",
   "metadata": {},
   "outputs": [
    {
     "name": "stdout",
     "output_type": "stream",
     "text": [
      "Data cleaned and saved to 'data/cleaned_data.csv' with shape: (397884, 8)\n"
     ]
    }
   ],
   "source": [
    "data_path = 'data/data.csv'\n",
    "\n",
    "cleaned_df = load_and_clean_data(data_path)\n",
    "cleaned_df.to_csv('data/cleaned_data.csv', index=False)\n",
    "print(f\"Data cleaned and saved to 'data/cleaned_data.csv' with shape: {cleaned_df.shape}\")\n"
   ]
  },
  {
   "cell_type": "markdown",
   "id": "88305904",
   "metadata": {},
   "source": [
    "RFM Call"
   ]
  },
  {
   "cell_type": "code",
   "execution_count": null,
   "id": "431d009e",
   "metadata": {},
   "outputs": [
    {
     "name": "stdout",
     "output_type": "stream",
     "text": [
      "RFM features created and saved to 'data/rfm_data.csv' with shape: (4338, 6)\n"
     ]
    }
   ],
   "source": [
    "\n",
    "rfm_df = create_rfm_features(cleaned_df)\n",
    "rfm_df.to_csv('data/rfm_data.csv', index=False)\n",
    "print(f\"RFM features created and saved to 'data/rfm_data.csv' with shape: {rfm_df.shape}\")\n"
   ]
  },
  {
   "cell_type": "markdown",
   "id": "83fb49f2",
   "metadata": {},
   "source": [
    "### Saving RFM distribution curves"
   ]
  },
  {
   "cell_type": "code",
   "execution_count": null,
   "id": "ed8b5621",
   "metadata": {},
   "outputs": [
    {
     "name": "stdout",
     "output_type": "stream",
     "text": [
      "Initial distribution plots saved to 'plots/'.\n",
      "Outliers handled and data saved to 'data/rfm_data_filtered.csv' with shape: (3911, 6)\n",
      "Filtered distribution plots saved to 'plots/'.\n"
     ]
    }
   ],
   "source": [
    "before_after= \"Before\"\n",
    "plot_and_save_distributions(rfm_df, before_after)\n",
    "print(\"Initial distribution plots saved to 'plots/'.\")\n",
    "\n",
    "filtered_rfm_df = detect_and_handle_outliers(rfm_df)\n",
    "filtered_rfm_df.to_csv('data/rfm_data_filtered.csv', index=False)\n",
    "print(f\"Outliers handled and data saved to 'data/rfm_data_filtered.csv' with shape: {filtered_rfm_df.shape}\")\n",
    "\n",
    "before_after= \"After\"\n",
    "plot_and_save_distributions(filtered_rfm_df,before_after)\n",
    "print(\"Filtered distribution plots saved to 'plots/'.\")"
   ]
  },
  {
   "cell_type": "markdown",
   "id": "af0de7f2",
   "metadata": {},
   "source": [
    "### Scaling and 3D scatter"
   ]
  },
  {
   "cell_type": "code",
   "execution_count": null,
   "id": "2b564e52",
   "metadata": {},
   "outputs": [
    {
     "name": "stdout",
     "output_type": "stream",
     "text": [
      "3D scatter plot of scaled RFM data saved to 'plots/3d_rfm_scatter.png'.\n"
     ]
    }
   ],
   "source": [
    "# Scaling and 3D scatter\n",
    "features = ['Recency', 'Frequency', 'Monetary']\n",
    "scaled_data, scaler = scale_data(filtered_rfm_df, features)\n",
    "plot_3d_scatter(scaled_data, labels=[0]*len(scaled_data), title='3D Scatter of Scaled RFM', filename='3d_rfm_scatter.png')\n",
    "print(\"3D scatter plot of scaled RFM data saved to 'plots/3d_rfm_scatter.png'.\")\n"
   ]
  },
  {
   "cell_type": "markdown",
   "id": "4286011a",
   "metadata": {},
   "source": [
    "### Kmeans -Calling (Kmeans Cluster and t-SNE, PCA plots, silhouette, Elbow method)"
   ]
  },
  {
   "cell_type": "code",
   "execution_count": null,
   "id": "e778e4e3",
   "metadata": {},
   "outputs": [
    {
     "name": "stdout",
     "output_type": "stream",
     "text": [
      "Auto-selected best k using elbow method: 4\n",
      "KMeans clustering completed.\n"
     ]
    }
   ],
   "source": [
    "# Train KMeans\n",
    "kmeans_model, kmeans_labels = train_kmeans(scaled_data)  # Your KMeans model\n",
    "filtered_rfm_df['KMeans_Labels'] = kmeans_labels\n",
    "print(\"KMeans clustering completed.\")\n",
    "\n",
    "#Plots Kmeans with centroids\n",
    "plot_kmeans_clusters(scaled_data, kmeans_labels, centers=kmeans_model.cluster_centers_)\n",
    "\n",
    "#Plots t-SNE\n",
    "plot_tsne_clusters(scaled_data, kmeans_labels)\n",
    "\n",
    "# PCA plot\n",
    "plot_pca_clusters(scaled_data, kmeans_labels, 'KMeans Clusters (PCA)', 'pca_kmeans.png')\n"
   ]
  },
  {
   "cell_type": "markdown",
   "id": "869b498c",
   "metadata": {},
   "source": [
    "### Hierarchical  -Call (Dendrogram and t-SNE, PCA plots)"
   ]
  },
  {
   "cell_type": "code",
   "execution_count": null,
   "id": "7ca90e80",
   "metadata": {},
   "outputs": [
    {
     "name": "stdout",
     "output_type": "stream",
     "text": [
      "Hierarchical clustering completed.\n"
     ]
    }
   ],
   "source": [
    "# calling Hierarchical Clustering\n",
    "\n",
    "Z, hierarchical_labels = train_hierarchical(scaled_data)\n",
    "filtered_rfm_df['Hierarchical_Labels'] = hierarchical_labels\n",
    "print(\"Hierarchical clustering completed.\")\n",
    "\n",
    "#Dendrogram\n",
    "# t-SNE\n",
    "plot_tsne_hierarchical(scaled_data, hierarchical_labels)\n",
    "\n",
    "#PCA plot\n",
    "plot_pca_clusters(scaled_data, hierarchical_labels, 'Hierarchical Clusters (PCA)', 'pca_hierarchical.png')"
   ]
  },
  {
   "cell_type": "markdown",
   "id": "ac1134ac",
   "metadata": {},
   "source": [
    "### DBSCAN  -Call (cluster and t-SNE, PCA plots)"
   ]
  },
  {
   "cell_type": "code",
   "execution_count": null,
   "id": "9bf04123",
   "metadata": {},
   "outputs": [
    {
     "name": "stdout",
     "output_type": "stream",
     "text": [
      "DBSCAN clustering completed.\n",
      "Clustered RFM data saved to 'data/clustered_rfm.csv'.\n"
     ]
    }
   ],
   "source": [
    "# Train DBSCAN\n",
    "dbscan_model, dbscan_labels = train_dbscan(scaled_data)\n",
    "filtered_rfm_df['DBSCAN_Labels'] = dbscan_labels\n",
    "print(\"DBSCAN clustering completed.\")\n",
    "\n",
    "#t-SNE\n",
    "plot_tsne_dbscan_clusters(scaled_data, dbscan_labels)\n",
    "filtered_rfm_df.to_csv('data/clustered_rfm.csv', index=False)\n",
    "print(\"Clustered RFM data saved to 'data/clustered_rfm.csv'.\")\n",
    "\n",
    "#PCA plot\n",
    "plot_pca_clusters(scaled_data, dbscan_labels, 'DBSCAN Clusters (PCA)', 'pca_dbscan.png')"
   ]
  },
  {
   "cell_type": "markdown",
   "id": "fbd85216",
   "metadata": {},
   "source": [
    "## Model Comparison - Call"
   ]
  },
  {
   "cell_type": "code",
   "execution_count": null,
   "id": "3c2868e4",
   "metadata": {},
   "outputs": [
    {
     "name": "stdout",
     "output_type": "stream",
     "text": [
      "KMeans - Silhouette: 0.4255, Davies-Bouldin: 0.8735\n",
      "Hierarchical - Silhouette: 0.3975, Davies-Bouldin: 0.7988\n",
      "\n",
      "✅ Conclusion:\n",
      "KMeans performs better than Hierarchical clustering on both metrics:\n",
      "\n",
      "Higher Silhouette Score → better cluster cohesion and separation\n",
      "\n",
      "Lower Davies-Bouldin Index → better-defined clusters\n"
     ]
    }
   ],
   "source": [
    "# Model Comparison\n",
    "label_sets = {\n",
    "    'KMeans': kmeans_labels,\n",
    "    'Hierarchical': hierarchical_labels,\n",
    "    'DBSCAN': dbscan_labels\n",
    "}\n",
    "model_scores = compare_models(scaled_data, label_sets)\n",
    "for model, scores in model_scores.items():\n",
    "    print(f\"{model} - Silhouette: {scores['Silhouette']:.4f}, Davies-Bouldin: {scores['Davies-Bouldin']:.4f}\")\n",
    "\n",
    "print(\"\"\"\n",
    "✅ Conclusion:\n",
    "KMeans performs better than Hierarchical clustering on both metrics:\n",
    "\n",
    "Higher Silhouette Score → better cluster cohesion and separation\n",
    "\n",
    "Lower Davies-Bouldin Index → better-defined clusters\"\"\")"
   ]
  },
  {
   "cell_type": "code",
   "execution_count": null,
   "id": "606a8daa",
   "metadata": {},
   "outputs": [
    {
     "name": "stdout",
     "output_type": "stream",
     "text": [
      "Model saved at models/kmeans_model.pkl\n",
      "Model saved at models/dbscan_model.pkl\n",
      "Model saved at models/hierarchical_model.pkl\n",
      "Model saved at models/scaler.pkl\n"
     ]
    }
   ],
   "source": [
    "# Save models\n",
    "save_model(kmeans_model, \"kmeans_model\")\n",
    "save_model(dbscan_model, \"dbscan_model\")\n",
    "save_model(Z, \"hierarchical_model\")\n",
    "save_model(scaler, \"scaler\")"
   ]
  },
  {
   "cell_type": "code",
   "execution_count": null,
   "id": "7975ff6c",
   "metadata": {},
   "outputs": [
    {
     "name": "stdout",
     "output_type": "stream",
     "text": [
      "Final labeled data saved and models stored.\n"
     ]
    }
   ],
   "source": [
    "# Save labeled data\n",
    "filtered_rfm_df['KMeans_Labels'] = kmeans_labels\n",
    "filtered_rfm_df['Hierarchical_Labels'] = hierarchical_labels\n",
    "filtered_rfm_df['DBSCAN_Labels'] = dbscan_labels\n",
    "filtered_rfm_df.to_csv(\"data/clustered_rfm.csv\", index=False)\n",
    "print(\"Final labeled data saved and models stored.\")"
   ]
  },
  {
   "cell_type": "code",
   "execution_count": null,
   "id": "b013e80b",
   "metadata": {},
   "outputs": [
    {
     "name": "stdout",
     "output_type": "stream",
     "text": [
      "KMeans_Labels\n",
      "3                1669\n",
      "1                 952\n",
      "0                 904\n",
      "2                 386\n",
      "Name: count, dtype: int64\n",
      "Hierarchical_Labels\n",
      "3                      2526\n",
      "1                      1078\n",
      "2                       307\n",
      "Name: count, dtype: int64\n",
      "DBSCAN_Labels\n",
      " 0               3869\n",
      "-1                 42\n",
      "Name: count, dtype: int64\n"
     ]
    }
   ],
   "source": [
    "print(filtered_rfm_df[[\"KMeans_Labels\"]].value_counts())\n",
    "print(filtered_rfm_df[[\"Hierarchical_Labels\"]].value_counts())\n",
    "print(filtered_rfm_df[[\"DBSCAN_Labels\"]].value_counts())"
   ]
  }
 ],
 "metadata": {
  "kernelspec": {
   "display_name": ".venv",
   "language": "python",
   "name": "python3"
  },
  "language_info": {
   "codemirror_mode": {
    "name": "ipython",
    "version": 3
   },
   "file_extension": ".py",
   "mimetype": "text/x-python",
   "name": "python",
   "nbconvert_exporter": "python",
   "pygments_lexer": "ipython3",
   "version": "3.12.7"
  }
 },
 "nbformat": 4,
 "nbformat_minor": 5
}
